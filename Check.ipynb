{
  "cells": [
    {
      "cell_type": "code",
      "execution_count": 6,
      "metadata": {
        "id": "TcmEa0-XulAV"
      },
      "outputs": [],
      "source": [
        "import tensorflow as tf\n",
        "from tensorflow.keras.applications.vgg16 import VGG16\n",
        "from tensorflow.keras.layers import Input\n",
        "from tensorflow.keras.models import Model\n",
        "import os\n",
        "import cv2\n",
        "import glob\n",
        "import numpy as np\n",
        "np.random.seed(1337)\n",
        "import sys\n",
        "from tensorflow.keras.layers import GlobalAveragePooling2D\n",
        "import dlib\n",
        "import random\n",
        "from keras.models import Sequential\n",
        "from __future__ import print_function\n",
        "from keras.preprocessing import image\n",
        "from keras.models import Sequential\n",
        "from tensorflow.keras.models import Sequential\n",
        "from tensorflow.keras.layers import  LSTM, Dense, Dropout, Bidirectional, MaxPool3D, Activation, Reshape, BatchNormalization\n",
        "from tensorflow.keras.optimizers import Adam\n",
        "import keras\n",
        "from keras.layers import Input\n",
        "from keras_vggface.vggface import VGGFace\n",
        "from tensorflow.keras.callbacks import ModelCheckpoint, LearningRateScheduler\n",
        "import curses\n",
        "from __future__ import print_function\n",
        "from keras.regularizers import l2\n",
        "from keras.callbacks import EarlyStopping,ReduceLROnPlateau\n",
        "import matplotlib.pyplot as plt\n",
        "import matplotlib.ticker as mticker"
      ]
    },
    {
      "cell_type": "code",
      "execution_count": 4,
      "metadata": {
        "colab": {
          "base_uri": "https://localhost:8080/"
        },
        "id": "Jo7-U4E8u863",
        "outputId": "a32a2a14-ba5b-4a49-de55-8e22717d761a"
      },
      "outputs": [
        {
          "output_type": "stream",
          "name": "stdout",
          "text": [
            "Collecting keras_vggface\n",
            "  Downloading keras_vggface-0.6-py3-none-any.whl (8.3 kB)\n",
            "Requirement already satisfied: numpy>=1.9.1 in /usr/local/lib/python3.10/dist-packages (from keras_vggface) (1.22.4)\n",
            "Requirement already satisfied: scipy>=0.14 in /usr/local/lib/python3.10/dist-packages (from keras_vggface) (1.10.1)\n",
            "Requirement already satisfied: h5py in /usr/local/lib/python3.10/dist-packages (from keras_vggface) (3.8.0)\n",
            "Requirement already satisfied: pillow in /usr/local/lib/python3.10/dist-packages (from keras_vggface) (8.4.0)\n",
            "Requirement already satisfied: keras in /usr/local/lib/python3.10/dist-packages (from keras_vggface) (2.12.0)\n",
            "Requirement already satisfied: six>=1.9.0 in /usr/local/lib/python3.10/dist-packages (from keras_vggface) (1.16.0)\n",
            "Requirement already satisfied: pyyaml in /usr/local/lib/python3.10/dist-packages (from keras_vggface) (6.0.1)\n",
            "Installing collected packages: keras_vggface\n",
            "Successfully installed keras_vggface-0.6\n"
          ]
        }
      ],
      "source": [
        "!pip install keras_vggface"
      ]
    },
    {
      "cell_type": "code",
      "execution_count": 2,
      "metadata": {
        "colab": {
          "base_uri": "https://localhost:8080/"
        },
        "id": "StjFGVJEwQmw",
        "outputId": "4dac6df5-6fc2-430b-b353-329676088e38"
      },
      "outputs": [
        {
          "output_type": "stream",
          "name": "stdout",
          "text": [
            "Collecting Keras-Applications\n",
            "  Downloading Keras_Applications-1.0.8-py3-none-any.whl (50 kB)\n",
            "\u001b[2K     \u001b[90m━━━━━━━━━━━━━━━━━━━━━━━━━━━━━━━━━━━━━━━\u001b[0m \u001b[32m50.7/50.7 kB\u001b[0m \u001b[31m674.0 kB/s\u001b[0m eta \u001b[36m0:00:00\u001b[0m\n",
            "\u001b[?25hRequirement already satisfied: numpy>=1.9.1 in /usr/local/lib/python3.10/dist-packages (from Keras-Applications) (1.22.4)\n",
            "Requirement already satisfied: h5py in /usr/local/lib/python3.10/dist-packages (from Keras-Applications) (3.8.0)\n",
            "Installing collected packages: Keras-Applications\n",
            "Successfully installed Keras-Applications-1.0.8\n"
          ]
        }
      ],
      "source": [
        "!pip install Keras-Applications"
      ]
    },
    {
      "cell_type": "code",
      "execution_count": 7,
      "metadata": {
        "id": "n5geR9J5wWbV"
      },
      "outputs": [],
      "source": [
        "\n",
        "class Vocabulary(object):\n",
        "    ''' A two-way mapping between words in our vocabulary and indexes. This\n",
        "        means that one can look up a word by index or an index by word. '''\n",
        "    def __init__(self, words):\n",
        "        # Mapping of words to indices.\n",
        "        self.word_to_index_map = {}\n",
        "\n",
        "        # Mapping of indices to words.\n",
        "        self.index_to_word_map = {}\n",
        "\n",
        "        # Mapping of words to number of occurrences.\n",
        "        self.occurrences_map = {}\n",
        "\n",
        "        word_set = set(words)\n",
        "\n",
        "        for index, word in enumerate(word_set):\n",
        "            self.word_to_index_map[word] = index\n",
        "            self.index_to_word_map[index] = word\n",
        "            self.occurrences_map[word] = 0\n",
        "\n",
        "        for word in words:\n",
        "            self.occurrences_map[word] += 1\n",
        "\n",
        "        self.total = len(words)\n",
        "        self.length = len(word_set)\n",
        "\n",
        "\n",
        "    def __len__(self):\n",
        "        return self.length\n",
        "\n",
        "\n",
        "    def __getitem__(self, key):\n",
        "        try:\n",
        "            return self.index_to_word_map[key]\n",
        "        except KeyError:\n",
        "            return self.word_to_index_map[key]\n",
        "\n",
        "\n",
        "    def occurrences(self, word=None):\n",
        "        if word:\n",
        "            return self.occurrences_map[word]\n",
        "        else:\n",
        "            return self.occurrences_map"
      ]
    },
    {
      "cell_type": "code",
      "execution_count": 8,
      "metadata": {
        "id": "VeIfhANSxSU_"
      },
      "outputs": [],
      "source": [
        "\n",
        "VIDEO_DIRECTORY_PATH = '/content/drive/MyDrive/data_new/videos'\n",
        "ALIGN_DIRECTORY_PATH = '/content/drive/MyDrive/data_new/alignment'\n",
        "FEATURE_DIRECTORY_PATH = '/content/drive/MyDrive/data_new/features'\n",
        "\n",
        "DEFAULT_TRAINING_FRACTION = 0.7\n",
        "\n",
        "NUM_FRAMES = 6\n",
        "\n",
        "NUM_FACIAL_FEATURES = 512\n",
        "\n",
        "def alignment_function(fp):\n",
        "    ''' Parse alignment data for an align file. '''\n",
        "    with open(fp, 'r') as f:\n",
        "        lines = f.readlines()\n",
        "\n",
        "    segments = []\n",
        "    for line in lines:\n",
        "        words = line.split()\n",
        "\n",
        "        # Round the start frame down and end frame up.\n",
        "        start = int(round(float(words[0]) / 1000))\n",
        "        end = int(round(float(words[1]) / 1000))\n",
        "\n",
        "        segments.append((start, end, words[2]))\n",
        "\n",
        "    num_frames = segments[-1][1] - segments[0][0]\n",
        "    # exclude first and last (cause it's sil)\n",
        "    return segments[1:-1], num_frames\n",
        "\n",
        "\n",
        "def video_function(speaker, vid_name):\n",
        "    ''' Split a video into sets of frames corresponding to each spoken word. '''\n",
        "    video_path = os.path.join(VIDEO_DIRECTORY_PATH, speaker, vid_name)\n",
        "    align_name = vid_name.split('.')[0] + '.align'\n",
        "    align_path = os.path.join(ALIGN_DIRECTORY_PATH, speaker, align_name)\n",
        "\n",
        "    cap = cv2.VideoCapture(video_path)\n",
        "    alignments, num_frames = alignment_function(align_path)\n",
        "\n",
        "    frames = np.ndarray(shape=(num_frames, 224, 224, 3), dtype=np.float32)\n",
        "\n",
        "    frame = 0\n",
        "    ret, img = cap.read()\n",
        "\n",
        "    while ret:\n",
        "        x = cv2.resize(img, (224, 224)).astype(np.float32)\n",
        "\n",
        "        x = np.expand_dims(x, axis=0)\n",
        "\n",
        "        x[:, :, :, 0] -= 93.5940\n",
        "        x[:, :, :, 1] -= 104.7624\n",
        "        x[:, :, :, 2] -= 129.1863\n",
        "\n",
        "        frames[frame,:,:,:] = x\n",
        "\n",
        "        ret, img = cap.read()\n",
        "\n",
        "        frame += 1\n",
        "        if(frame==74):\n",
        "          break\n",
        "\n",
        "    # Divide up frames based on mapping to spoken words.\n",
        "    word_frames = []\n",
        "    output = []\n",
        "    for seg in alignments:\n",
        "        word_frames.append(frames[seg[0]:seg[1],:,:])\n",
        "        output.append(seg[2])\n",
        "\n",
        "    return word_frames, output\n",
        "\n",
        "\n",
        "def vocab_function(words):\n",
        "    ''' Build vocabulary and use it to format labels. '''\n",
        "    vocab = Vocabulary(words)\n",
        "\n",
        "    # Map words to word embedding vectors.\n",
        "    output_vector = []\n",
        "    for word in words:\n",
        "        zeros = np.zeros(len(vocab), dtype=np.float32)\n",
        "        zeros[vocab[word]] = 1.0\n",
        "\n",
        "        output_vector.append(zeros)\n",
        "\n",
        "    return vocab, output_vector\n",
        "\n",
        "\n",
        "def tfold(x, y, k):\n",
        "    ''' Split testing and training data k ways to enable k-fold\n",
        "        cross-validation. '''\n",
        "    interval = int(x.shape[0] / k)\n",
        "\n",
        "    masks = []\n",
        "    for i in range(1, k):\n",
        "        # Create mask for testing section of data.\n",
        "        test_mask = np.zeros(x.shape[0], dtype=bool)\n",
        "        test_mask[(i-1)*interval:i*interval] = True\n",
        "\n",
        "        masks.append(test_mask)\n",
        "\n",
        "    x_test = x[-interval:, ...]\n",
        "    y_test = y[-interval:, ...]\n",
        "    masks.append(test_mask)\n",
        "\n",
        "    return masks\n",
        "\n",
        "\n",
        "def split_train_test(x, y, test_mask):\n",
        "    x_train = x[~test_mask, ...]\n",
        "    y_train = y[~test_mask, ...]\n",
        "    train = (x_train, y_train)\n",
        "\n",
        "    x_test = x[test_mask, ...]\n",
        "    y_test = y[test_mask, ...]\n",
        "    test = (x_test, y_test)\n",
        "\n",
        "    return train, test\n",
        "\n",
        "\n",
        "def process_frames(frames, desired_length):\n",
        "    ''' Condense a set of frames down to a desired length by averaging\n",
        "        neighbouring frames. '''\n",
        "\n",
        "    # Already at or below desired length, nothing to be done.\n",
        "    if len(frames) <= desired_length:\n",
        "        return frames\n",
        "\n",
        "    # We need to get one frame from every cond_ratio frames.\n",
        "    cond_ratio = len(frames) * 1.0 / desired_length\n",
        "\n",
        "    condensed_frames = np.zeros((desired_length, frames.shape[1]), dtype=frames.dtype)\n",
        "\n",
        "    frame_count = 0.0\n",
        "\n",
        "    for i in range(desired_length):\n",
        "        idx = int(frame_count)\n",
        "        end_idx = idx + 1\n",
        "        weights = [idx + 1 - frame_count]\n",
        "\n",
        "        # Frames that are contributing fully to this average have a weight of 1.\n",
        "        while cond_ratio - sum(weights) >= 1.0:\n",
        "            weights.append(1.0)\n",
        "            end_idx += 1\n",
        "\n",
        "        # Account for any remainder.\n",
        "        if cond_ratio > sum(weights) + 0.0000001:\n",
        "            weights.append(cond_ratio - sum(weights))\n",
        "            end_idx += 1\n",
        "\n",
        "        # Normalize the weights.\n",
        "        norm = np.linalg.norm(weights)\n",
        "        weights = [w / norm for w in weights]\n",
        "\n",
        "        condensed_frames[i,:] = np.average(frames[idx:end_idx,:], axis=0, weights=weights)\n",
        "\n",
        "        frame_count += cond_ratio\n",
        "\n",
        "    return condensed_frames\n",
        "\n",
        "\n",
        "def shuffle_data(x, y):\n",
        "    ''' Shuffle the features and labels into a random order. '''\n",
        "    r = list(range(len(x)))\n",
        "    np.random.shuffle(r)\n",
        "\n",
        "    xr = []\n",
        "    yr = []\n",
        "\n",
        "    for i in range(1,len(x)):\n",
        "        idx = r[i]\n",
        "        xr.append(x[idx])\n",
        "        yr.append(y[idx])\n",
        "\n",
        "    return xr, yr\n",
        "\n",
        "\n",
        "def files_load(data_files, shuffle):\n",
        "    ''' Load specified data files into feature and label arrays. '''\n",
        "    x = [] # Features\n",
        "    y = [] # Labels\n",
        "    empty_file_count = 0\n",
        "\n",
        "    for data_file in data_files:\n",
        "        name_no_ext = os.path.basename(data_file).split('.')[0]\n",
        "        word = name_no_ext.split('_')[2]\n",
        "\n",
        "        data = np.load(data_file)\n",
        "\n",
        "        if data.shape[0] == 0:\n",
        "            empty_file_count += 1\n",
        "            continue\n",
        "\n",
        "        # 'sp' denotes a pause in speaking. We do not want to treat this as a\n",
        "        # word.\n",
        "        if word == 'sp':\n",
        "            continue\n",
        "\n",
        "        x.append(data[:,:NUM_FACIAL_FEATURES])\n",
        "        y.append(word)\n",
        "\n",
        "    if shuffle:\n",
        "        x, y = shuffle_data(x, y)\n",
        "\n",
        "    return x, y, empty_file_count\n",
        "\n",
        "\n",
        "def max_frames(features):\n",
        "    ''' Calculate the maximum number of frames any word has. '''\n",
        "    max_frames = 0\n",
        "    for f in features:\n",
        "        if f.shape[0] > max_frames:\n",
        "            max_frames = f.shape[0]\n",
        "    return max_frames\n",
        "\n",
        "\n",
        "def Normalize(word_frame):\n",
        "    ''' Normalize so all values in the set of frames for the word add to one. '''\n",
        "    norm = np.linalg.norm(word_frame)\n",
        "    if norm == 0:\n",
        "        # If the norm is zero, meaning the vector is zero, we just use\n",
        "        # an evenly distributed unit array.\n",
        "        ones = np.ones(word_frame.shape)\n",
        "        return ones / np.linalg.norm(ones)\n",
        "    return word_frame / norm\n",
        "\n",
        "\n",
        "def load_data(k=5, speakers=[], shuffle=False, use_delta_frames=True):\n",
        "\n",
        "    if len(speakers) == 0:\n",
        "        data_glob = os.path.join(FEATURE_DIRECTORY_PATH, '*', '*.npy')\n",
        "        data_files = glob.glob(data_glob)\n",
        "    else:\n",
        "        data_files = []\n",
        "        for speaker in speakers:\n",
        "            speaker = 's' + str(speaker)\n",
        "            data_glob = os.path.join(FEATURE_DIRECTORY_PATH, speaker, '*.npy')\n",
        "            data_files.extend(glob.glob(data_glob))\n",
        "\n",
        "    x, y, empty_file_count = files_load(data_files, shuffle)\n",
        "    print('Skipped {} empty data files.'.format(empty_file_count))\n",
        "\n",
        "    # Build mapping of vocabulary to integers, and remap output to it.\n",
        "    vocab, y = vocab_function(y)\n",
        "\n",
        "\n",
        "    word_max_frames = max_frames(x)\n",
        "    if use_delta_frames:\n",
        "        effective_num_frames = NUM_FRAMES + 1\n",
        "    else:\n",
        "        effective_num_frames = NUM_FRAMES\n",
        "\n",
        "    for i, f in enumerate(x):\n",
        "        last = np.array(f[-1].reshape(1, NUM_FACIAL_FEATURES))\n",
        "\n",
        "        # Add padding with duplicates of last frame.\n",
        "        for _ in range(f.shape[0], effective_num_frames):\n",
        "            x[i] = np.concatenate((x[i], last), axis=0)\n",
        "\n",
        "        x[i] = process_frames(x[i], effective_num_frames)\n",
        "\n",
        "        if use_delta_frames:\n",
        "            # Take deltas.\n",
        "            for j in range(1, len(x[i])):\n",
        "                x[i][j-1,:] = x[i][j,:] - x[i][j-1,:]\n",
        "\n",
        "            # Remove extra frame from the end.\n",
        "            x[i] = x[i][:NUM_FRAMES, ...]\n",
        "\n",
        "        # Normalize the entire set of frames for this word.\n",
        "        x[i] = Normalize(x[i])\n",
        "\n",
        "    x = np.asarray(x)\n",
        "    y = np.asarray(y)\n",
        "    kmasks = tfold(x, y, k)\n",
        "\n",
        "    return x, y, kmasks, vocab\n",
        "\n",
        "\n",
        "def main(speaker):\n",
        "    ''' Progressively convert video data into facial feature data and save it. '''\n",
        "\n",
        "    input_tensor = Input(shape=(224, 224, 3))\n",
        "    vgg_model = VGGFace(input_tensor=input_tensor, include_top=False, pooling='avg')\n",
        "\n",
        "    speaker_feature_dir = os.path.join(FEATURE_DIRECTORY_PATH, speaker)\n",
        "    if not os.path.isdir(speaker_feature_dir):\n",
        "        os.mkdir(speaker_feature_dir)\n",
        "\n",
        "    video_glob = os.path.join(VIDEO_DIRECTORY_PATH, speaker, '*.mpg')\n",
        "    video_paths = glob.glob(video_glob)\n",
        "    num_videos = len(video_paths)\n",
        "    word_count = 0\n",
        "\n",
        "    try:\n",
        "        for video_count, video_path in enumerate(video_paths):\n",
        "            video_name = os.path.basename(video_path)\n",
        "            word_frames, output = video_function(speaker, video_name)\n",
        "\n",
        "            name_no_ext = video_name.split('.')[0]\n",
        "            for i, word_frame in enumerate(word_frames):\n",
        "\n",
        "                word_count += 1\n",
        "                feature_file_name = '{}_{}_{}'.format(name_no_ext, i, output[i])\n",
        "                feature_file_path = os.path.join(speaker_feature_dir, feature_file_name)\n",
        "                if os.path.isfile(feature_file_path + '.npy'):\n",
        "                    continue\n",
        "                tf.config.run_functions_eagerly(True)\n",
        "\n",
        "                features = vgg_model.predict(word_frame)\n",
        "                np.save(feature_file_path, features)\n",
        "    except (SystemExit, KeyboardInterrupt):\n",
        "\n",
        "        pass"
      ]
    },
    {
      "cell_type": "code",
      "execution_count": 9,
      "metadata": {
        "id": "0R9RW6vxxhEs",
        "colab": {
          "base_uri": "https://localhost:8080/"
        },
        "outputId": "98b71a51-ec00-4432-c9fa-51df614019a1"
      },
      "outputs": [
        {
          "output_type": "stream",
          "name": "stdout",
          "text": [
            "Skipped 0 empty data files.\n"
          ]
        }
      ],
      "source": [
        "x, y, kmasks, vocab = load_data(k=5,speakers=[1,2,3,4,5,6,7,10,11,20],shuffle=True, use_delta_frames=True)"
      ]
    },
    {
      "cell_type": "code",
      "execution_count": 10,
      "metadata": {
        "colab": {
          "base_uri": "https://localhost:8080/"
        },
        "id": "xPTzSdZOyLdu",
        "outputId": "56264d40-369c-4de1-825c-84e04b403d9c"
      },
      "outputs": [
        {
          "output_type": "execute_result",
          "data": {
            "text/plain": [
              "<function dict.keys>"
            ]
          },
          "metadata": {},
          "execution_count": 10
        }
      ],
      "source": [
        "vocab.occurrences().keys"
      ]
    },
    {
      "cell_type": "code",
      "execution_count": 11,
      "metadata": {
        "colab": {
          "base_uri": "https://localhost:8080/"
        },
        "id": "USPlrON8ycH3",
        "outputId": "19078dc2-6004-430a-9ded-5bd0a3407b5b"
      },
      "outputs": [
        {
          "output_type": "stream",
          "name": "stdout",
          "text": [
            "5665\n",
            "5665\n",
            "Number of words for training:  4532\n",
            "Number of words for testing:  1133\n",
            "Frames per word:  6\n",
            "Features per frame:  512\n"
          ]
        }
      ],
      "source": [
        "FOLD = 0\n",
        "\n",
        "train, test = split_train_test(x, y, kmasks[FOLD])\n",
        "print(len(x))\n",
        "print(len(y))\n",
        "\n",
        "x_train, y_train = train\n",
        "x_test, y_test = test\n",
        "\n",
        "print('Number of words for training: ', x_train.shape[0])\n",
        "print('Number of words for testing: ', x_test.shape[0])\n",
        "print('Frames per word: ', x_train.shape[1])\n",
        "print('Features per frame: ', x_train.shape[2])"
      ]
    },
    {
      "cell_type": "code",
      "execution_count": 12,
      "metadata": {
        "id": "3lAGJzSKDBwI"
      },
      "outputs": [],
      "source": [
        "mean = x_train.mean(axis=0)\n",
        "std = x_train.std(axis=0)\n",
        "X_train = (x_train - mean) / std\n",
        "X_val = (x_test - mean) / std"
      ]
    },
    {
      "cell_type": "code",
      "execution_count": 13,
      "metadata": {
        "id": "Q5o02Qt6ydSV"
      },
      "outputs": [],
      "source": [
        "model = Sequential()\n",
        "\n",
        "model.add(LSTM(128, input_shape=x_train[0].shape, return_sequences=True,kernel_regularizer=l2(0.01)))\n",
        "model.add(BatchNormalization())\n",
        "model.add(Dropout(0.2))\n",
        "\n",
        "model.add(LSTM(64,kernel_regularizer=l2(0.01)))\n",
        "model.add(BatchNormalization())\n",
        "model.add(Dropout(0.2))\n",
        "\n",
        "model.add(Dense(256, activation='relu',kernel_regularizer=l2(0.01)))\n",
        "model.add(BatchNormalization())\n",
        "model.add(Dropout(0.3))\n",
        "\n",
        "model.add(Dense(len(vocab), activation='softmax'))\n"
      ]
    },
    {
      "cell_type": "code",
      "execution_count": 14,
      "metadata": {
        "id": "u-kO3WsAz-96"
      },
      "outputs": [],
      "source": [
        "def scheduler(epoch, lr):\n",
        "    if epoch < 30:\n",
        "        return lr\n",
        "    else:\n",
        "        return lr * tf.math.exp(-0.1)"
      ]
    },
    {
      "cell_type": "code",
      "execution_count": 15,
      "metadata": {
        "id": "S1MmCyL-IbFa"
      },
      "outputs": [],
      "source": [
        "schedule_callback = LearningRateScheduler(scheduler)"
      ]
    },
    {
      "cell_type": "code",
      "execution_count": 16,
      "metadata": {
        "id": "6Ouvlkj00Iyi"
      },
      "outputs": [],
      "source": [
        "checkpoint_callback = ModelCheckpoint(os.path.join('models','checkpoint'), monitor='loss', save_weights_only=True)"
      ]
    },
    {
      "cell_type": "code",
      "execution_count": 24,
      "metadata": {
        "id": "74a6ktIiEHhY"
      },
      "outputs": [],
      "source": [
        "reduce_lr = ReduceLROnPlateau(factor=0.2, patience=2)"
      ]
    },
    {
      "cell_type": "code",
      "execution_count": 25,
      "metadata": {
        "id": "9KEuAZjO0GGY"
      },
      "outputs": [],
      "source": [
        "model.compile(loss='categorical_crossentropy',optimizer='Adam', metrics=['accuracy'])"
      ]
    },
    {
      "cell_type": "code",
      "execution_count": 26,
      "metadata": {
        "colab": {
          "base_uri": "https://localhost:8080/"
        },
        "id": "M0hA6HJpyhAm",
        "outputId": "7965747f-a503-43c6-fd0c-3fe39a5c02f8"
      },
      "outputs": [
        {
          "output_type": "stream",
          "name": "stdout",
          "text": [
            "Epoch 1/50\n",
            "71/71 [==============================] - 12s 72ms/step - loss: 1.0829 - accuracy: 0.7776 - val_loss: 2.3888 - val_accuracy: 0.5649 - lr: 0.0010\n",
            "Epoch 2/50\n",
            "71/71 [==============================] - 3s 49ms/step - loss: 1.0021 - accuracy: 0.8169 - val_loss: 2.3051 - val_accuracy: 0.5702 - lr: 0.0010\n",
            "Epoch 3/50\n",
            "71/71 [==============================] - 4s 61ms/step - loss: 1.0296 - accuracy: 0.7992 - val_loss: 2.2299 - val_accuracy: 0.6117 - lr: 0.0010\n",
            "Epoch 4/50\n",
            "71/71 [==============================] - 5s 71ms/step - loss: 1.0269 - accuracy: 0.8118 - val_loss: 2.2435 - val_accuracy: 0.5719 - lr: 0.0010\n",
            "Epoch 5/50\n",
            "71/71 [==============================] - 4s 52ms/step - loss: 1.0218 - accuracy: 0.8127 - val_loss: 2.1250 - val_accuracy: 0.6011 - lr: 0.0010\n",
            "Epoch 6/50\n",
            "71/71 [==============================] - 3s 48ms/step - loss: 1.0102 - accuracy: 0.8202 - val_loss: 2.5882 - val_accuracy: 0.5428 - lr: 0.0010\n",
            "Epoch 7/50\n",
            "71/71 [==============================] - 6s 79ms/step - loss: 1.0183 - accuracy: 0.8191 - val_loss: 2.1282 - val_accuracy: 0.5905 - lr: 2.0000e-04\n",
            "Epoch 8/50\n",
            "71/71 [==============================] - 4s 52ms/step - loss: 0.8462 - accuracy: 0.8698 - val_loss: 1.7514 - val_accuracy: 0.6637 - lr: 2.0000e-04\n",
            "Epoch 9/50\n",
            "71/71 [==============================] - 4s 53ms/step - loss: 0.7412 - accuracy: 0.9049 - val_loss: 1.6815 - val_accuracy: 0.6690 - lr: 2.0000e-04\n",
            "Epoch 10/50\n",
            "71/71 [==============================] - 4s 63ms/step - loss: 0.7049 - accuracy: 0.9184 - val_loss: 1.6836 - val_accuracy: 0.6743 - lr: 2.0000e-04\n",
            "Epoch 11/50\n",
            "71/71 [==============================] - 5s 75ms/step - loss: 0.6757 - accuracy: 0.9219 - val_loss: 1.7050 - val_accuracy: 0.6567 - lr: 4.0000e-05\n",
            "Epoch 12/50\n",
            "71/71 [==============================] - 3s 48ms/step - loss: 0.6361 - accuracy: 0.9325 - val_loss: 1.6780 - val_accuracy: 0.6681 - lr: 4.0000e-05\n",
            "Epoch 13/50\n",
            "71/71 [==============================] - 4s 51ms/step - loss: 0.6371 - accuracy: 0.9316 - val_loss: 1.6760 - val_accuracy: 0.6726 - lr: 4.0000e-05\n",
            "Epoch 14/50\n",
            "71/71 [==============================] - 6s 82ms/step - loss: 0.6174 - accuracy: 0.9402 - val_loss: 1.6865 - val_accuracy: 0.6708 - lr: 4.0000e-05\n",
            "Epoch 15/50\n",
            "71/71 [==============================] - 4s 52ms/step - loss: 0.6223 - accuracy: 0.9356 - val_loss: 1.6880 - val_accuracy: 0.6611 - lr: 8.0000e-06\n",
            "Epoch 16/50\n",
            "71/71 [==============================] - 4s 54ms/step - loss: 0.6055 - accuracy: 0.9411 - val_loss: 1.6896 - val_accuracy: 0.6655 - lr: 8.0000e-06\n",
            "Epoch 17/50\n",
            "71/71 [==============================] - 4s 62ms/step - loss: 0.6128 - accuracy: 0.9365 - val_loss: 1.6893 - val_accuracy: 0.6637 - lr: 1.6000e-06\n",
            "Epoch 18/50\n",
            "71/71 [==============================] - 5s 69ms/step - loss: 0.6088 - accuracy: 0.9409 - val_loss: 1.6900 - val_accuracy: 0.6646 - lr: 1.6000e-06\n",
            "Epoch 19/50\n",
            "71/71 [==============================] - 4s 53ms/step - loss: 0.6063 - accuracy: 0.9409 - val_loss: 1.6897 - val_accuracy: 0.6646 - lr: 3.2000e-07\n",
            "Epoch 20/50\n",
            "71/71 [==============================] - 4s 51ms/step - loss: 0.6033 - accuracy: 0.9435 - val_loss: 1.6896 - val_accuracy: 0.6646 - lr: 3.2000e-07\n",
            "Epoch 21/50\n",
            "71/71 [==============================] - 6s 79ms/step - loss: 0.6017 - accuracy: 0.9453 - val_loss: 1.6897 - val_accuracy: 0.6646 - lr: 6.4000e-08\n",
            "Epoch 22/50\n",
            "71/71 [==============================] - 4s 52ms/step - loss: 0.6090 - accuracy: 0.9376 - val_loss: 1.6896 - val_accuracy: 0.6628 - lr: 6.4000e-08\n",
            "Epoch 23/50\n",
            "71/71 [==============================] - 4s 52ms/step - loss: 0.6042 - accuracy: 0.9424 - val_loss: 1.6895 - val_accuracy: 0.6646 - lr: 1.2800e-08\n",
            "Epoch 24/50\n",
            "71/71 [==============================] - 4s 63ms/step - loss: 0.5990 - accuracy: 0.9488 - val_loss: 1.6895 - val_accuracy: 0.6646 - lr: 1.2800e-08\n",
            "Epoch 25/50\n",
            "71/71 [==============================] - 5s 72ms/step - loss: 0.6059 - accuracy: 0.9426 - val_loss: 1.6894 - val_accuracy: 0.6637 - lr: 2.5600e-09\n",
            "Epoch 26/50\n",
            "71/71 [==============================] - 4s 49ms/step - loss: 0.6179 - accuracy: 0.9376 - val_loss: 1.6891 - val_accuracy: 0.6637 - lr: 2.5600e-09\n",
            "Epoch 27/50\n",
            "71/71 [==============================] - 4s 53ms/step - loss: 0.6120 - accuracy: 0.9380 - val_loss: 1.6898 - val_accuracy: 0.6637 - lr: 5.1200e-10\n",
            "Epoch 28/50\n",
            "71/71 [==============================] - 6s 82ms/step - loss: 0.6047 - accuracy: 0.9415 - val_loss: 1.6905 - val_accuracy: 0.6655 - lr: 5.1200e-10\n",
            "Epoch 29/50\n",
            "71/71 [==============================] - 4s 49ms/step - loss: 0.6012 - accuracy: 0.9448 - val_loss: 1.6901 - val_accuracy: 0.6655 - lr: 1.0240e-10\n",
            "Epoch 30/50\n",
            "71/71 [==============================] - 4s 49ms/step - loss: 0.6033 - accuracy: 0.9422 - val_loss: 1.6891 - val_accuracy: 0.6646 - lr: 1.0240e-10\n",
            "Epoch 31/50\n",
            "71/71 [==============================] - 4s 53ms/step - loss: 0.6051 - accuracy: 0.9446 - val_loss: 1.6897 - val_accuracy: 0.6646 - lr: 1.8531e-11\n",
            "Epoch 32/50\n",
            "71/71 [==============================] - 5s 77ms/step - loss: 0.6145 - accuracy: 0.9356 - val_loss: 1.6899 - val_accuracy: 0.6637 - lr: 1.6768e-11\n",
            "Epoch 33/50\n",
            "71/71 [==============================] - 4s 53ms/step - loss: 0.6031 - accuracy: 0.9420 - val_loss: 1.6892 - val_accuracy: 0.6637 - lr: 3.0344e-12\n",
            "Epoch 34/50\n",
            "71/71 [==============================] - 3s 49ms/step - loss: 0.6090 - accuracy: 0.9406 - val_loss: 1.6895 - val_accuracy: 0.6628 - lr: 2.7456e-12\n",
            "Epoch 35/50\n",
            "71/71 [==============================] - 5s 69ms/step - loss: 0.6004 - accuracy: 0.9462 - val_loss: 1.6894 - val_accuracy: 0.6628 - lr: 4.9687e-13\n",
            "Epoch 36/50\n",
            "71/71 [==============================] - 4s 60ms/step - loss: 0.5980 - accuracy: 0.9437 - val_loss: 1.6899 - val_accuracy: 0.6628 - lr: 4.4959e-13\n",
            "Epoch 37/50\n",
            "71/71 [==============================] - 3s 49ms/step - loss: 0.6027 - accuracy: 0.9453 - val_loss: 1.6897 - val_accuracy: 0.6628 - lr: 8.1361e-14\n",
            "Epoch 38/50\n",
            "71/71 [==============================] - 4s 53ms/step - loss: 0.6121 - accuracy: 0.9402 - val_loss: 1.6891 - val_accuracy: 0.6655 - lr: 7.3618e-14\n",
            "Epoch 39/50\n",
            "71/71 [==============================] - 6s 81ms/step - loss: 0.6149 - accuracy: 0.9378 - val_loss: 1.6882 - val_accuracy: 0.6646 - lr: 1.3322e-14\n",
            "Epoch 40/50\n",
            "71/71 [==============================] - 4s 50ms/step - loss: 0.6131 - accuracy: 0.9406 - val_loss: 1.6896 - val_accuracy: 0.6646 - lr: 1.2055e-14\n",
            "Epoch 41/50\n",
            "71/71 [==============================] - 4s 50ms/step - loss: 0.6081 - accuracy: 0.9409 - val_loss: 1.6900 - val_accuracy: 0.6646 - lr: 2.1815e-15\n",
            "Epoch 42/50\n",
            "71/71 [==============================] - 5s 68ms/step - loss: 0.6046 - accuracy: 0.9400 - val_loss: 1.6896 - val_accuracy: 0.6637 - lr: 1.9739e-15\n",
            "Epoch 43/50\n",
            "71/71 [==============================] - 5s 64ms/step - loss: 0.5981 - accuracy: 0.9451 - val_loss: 1.6891 - val_accuracy: 0.6646 - lr: 3.5721e-16\n",
            "Epoch 44/50\n",
            "71/71 [==============================] - 4s 50ms/step - loss: 0.6142 - accuracy: 0.9402 - val_loss: 1.6896 - val_accuracy: 0.6664 - lr: 3.2322e-16\n",
            "Epoch 45/50\n",
            "71/71 [==============================] - 3s 48ms/step - loss: 0.6060 - accuracy: 0.9415 - val_loss: 1.6905 - val_accuracy: 0.6637 - lr: 5.8492e-17\n",
            "Epoch 46/50\n",
            "71/71 [==============================] - 6s 79ms/step - loss: 0.6132 - accuracy: 0.9440 - val_loss: 1.6899 - val_accuracy: 0.6637 - lr: 5.2926e-17\n",
            "Epoch 47/50\n",
            "71/71 [==============================] - 4s 49ms/step - loss: 0.6040 - accuracy: 0.9440 - val_loss: 1.6899 - val_accuracy: 0.6646 - lr: 9.5779e-18\n",
            "Epoch 48/50\n",
            "71/71 [==============================] - 3s 47ms/step - loss: 0.5994 - accuracy: 0.9442 - val_loss: 1.6905 - val_accuracy: 0.6646 - lr: 8.6664e-18\n",
            "Epoch 49/50\n",
            "71/71 [==============================] - 4s 51ms/step - loss: 0.6110 - accuracy: 0.9404 - val_loss: 1.6892 - val_accuracy: 0.6646 - lr: 1.5683e-18\n",
            "Epoch 50/50\n",
            "71/71 [==============================] - 6s 81ms/step - loss: 0.6079 - accuracy: 0.9437 - val_loss: 1.6890 - val_accuracy: 0.6646 - lr: 1.4191e-18\n"
          ]
        }
      ],
      "source": [
        "history=model.fit(x_train, y_train, batch_size=64, epochs=50, verbose=1, validation_data=(x_test, y_test),callbacks=[ reduce_lr,checkpoint_callback,schedule_callback])"
      ]
    },
    {
      "cell_type": "code",
      "execution_count": 27,
      "metadata": {
        "colab": {
          "base_uri": "https://localhost:8080/"
        },
        "id": "yNfhKmfLNPoo",
        "outputId": "12995593-9be8-4d6c-f788-3e37537bb87a"
      },
      "outputs": [
        {
          "output_type": "stream",
          "name": "stdout",
          "text": [
            "18/18 [==============================] - 0s 18ms/step - loss: 1.6890 - accuracy: 0.6646\n",
            "Test score:  1.6889575719833374\n",
            "Test accuracy:  0.6646072268486023\n"
          ]
        }
      ],
      "source": [
        "score, acc = model.evaluate(x_test, y_test, batch_size=64)\n",
        "print('Test score: ', score)\n",
        "print('Test accuracy: ', acc)"
      ]
    },
    {
      "cell_type": "code",
      "source": [
        "frames_per_word = x_test.shape[1]\n",
        "features_per_frame = x_test.shape[2]\n",
        "\n",
        "RESULTS_TO_CHECK = 50\n",
        "MATCHES_PER_WORD = 4\n",
        "\n",
        "for i in range(RESULTS_TO_CHECK):\n",
        "    pred = model.predict(x_test[i].reshape(1, frames_per_word, features_per_frame))\n",
        "    predicted_indexes = np.argsort(pred.reshape(len(vocab)))[::-1][:MATCHES_PER_WORD]\n",
        "    correct_index = np.argsort(y_test[i])[::-1][0]\n",
        "\n",
        "    correct_word = vocab[correct_index]\n",
        "    predicted_words = [vocab[i] for i in predicted_indexes]\n",
        "\n",
        "    best_match = None\n",
        "    for word in predicted_words:\n",
        "        if word == correct_word:\n",
        "            best_match = word\n",
        "            break\n",
        "\n",
        "    if best_match is not None:\n",
        "        print('{} : {}'.format(correct_word, best_match))\n",
        "    else:\n",
        "        print('{} : {}'.format(correct_word, predicted_words[0]))"
      ],
      "metadata": {
        "id": "7xnglWI1zVva",
        "colab": {
          "base_uri": "https://localhost:8080/"
        },
        "outputId": "3ac95691-08b7-4668-97db-000bdc0c4b1b"
      },
      "execution_count": 28,
      "outputs": [
        {
          "output_type": "stream",
          "name": "stdout",
          "text": [
            "1/1 [==============================] - 1s 1s/step\n",
            "two : two\n",
            "1/1 [==============================] - 0s 47ms/step\n",
            "f : green\n",
            "1/1 [==============================] - 0s 47ms/step\n",
            "with : with\n",
            "1/1 [==============================] - 0s 44ms/step\n",
            "blue : blue\n",
            "1/1 [==============================] - 0s 39ms/step\n",
            "again : again\n",
            "1/1 [==============================] - 0s 45ms/step\n",
            "with : with\n",
            "1/1 [==============================] - 0s 43ms/step\n",
            "five : five\n",
            "1/1 [==============================] - 0s 43ms/step\n",
            "now : now\n",
            "1/1 [==============================] - 0s 42ms/step\n",
            "white : white\n",
            "1/1 [==============================] - 0s 41ms/step\n",
            "now : now\n",
            "1/1 [==============================] - 0s 47ms/step\n",
            "two : two\n",
            "1/1 [==============================] - 0s 38ms/step\n",
            "g : u\n",
            "1/1 [==============================] - 0s 49ms/step\n",
            "now : now\n",
            "1/1 [==============================] - 0s 39ms/step\n",
            "again : again\n",
            "1/1 [==============================] - 0s 37ms/step\n",
            "five : five\n",
            "1/1 [==============================] - 0s 44ms/step\n",
            "now : now\n",
            "1/1 [==============================] - 0s 48ms/step\n",
            "c : c\n",
            "1/1 [==============================] - 0s 43ms/step\n",
            "blue : blue\n",
            "1/1 [==============================] - 0s 40ms/step\n",
            "blue : blue\n",
            "1/1 [==============================] - 0s 43ms/step\n",
            "green : green\n",
            "1/1 [==============================] - 0s 45ms/step\n",
            "set : set\n",
            "1/1 [==============================] - 0s 37ms/step\n",
            "blue : blue\n",
            "1/1 [==============================] - 0s 45ms/step\n",
            "blue : blue\n",
            "1/1 [==============================] - 0s 38ms/step\n",
            "again : again\n",
            "1/1 [==============================] - 0s 37ms/step\n",
            "four : four\n",
            "1/1 [==============================] - 0s 47ms/step\n",
            "by : by\n",
            "1/1 [==============================] - 0s 45ms/step\n",
            "green : green\n",
            "1/1 [==============================] - 0s 44ms/step\n",
            "eight : eight\n",
            "1/1 [==============================] - 0s 45ms/step\n",
            "green : green\n",
            "1/1 [==============================] - 0s 45ms/step\n",
            "red : green\n",
            "1/1 [==============================] - 0s 37ms/step\n",
            "red : red\n",
            "1/1 [==============================] - 0s 47ms/step\n",
            "again : again\n",
            "1/1 [==============================] - 0s 52ms/step\n",
            "now : now\n",
            "1/1 [==============================] - 0s 39ms/step\n",
            "lay : lay\n",
            "1/1 [==============================] - 0s 28ms/step\n",
            "i : i\n",
            "1/1 [==============================] - 0s 31ms/step\n",
            "l : h\n",
            "1/1 [==============================] - 0s 27ms/step\n",
            "green : green\n",
            "1/1 [==============================] - 0s 25ms/step\n",
            "with : with\n",
            "1/1 [==============================] - 0s 26ms/step\n",
            "with : with\n",
            "1/1 [==============================] - 0s 24ms/step\n",
            "now : now\n",
            "1/1 [==============================] - 0s 24ms/step\n",
            "in : in\n",
            "1/1 [==============================] - 0s 27ms/step\n",
            "in : in\n",
            "1/1 [==============================] - 0s 23ms/step\n",
            "nine : nine\n",
            "1/1 [==============================] - 0s 29ms/step\n",
            "set : set\n",
            "1/1 [==============================] - 0s 35ms/step\n",
            "t : t\n",
            "1/1 [==============================] - 0s 27ms/step\n",
            "h : h\n",
            "1/1 [==============================] - 0s 26ms/step\n",
            "at : at\n",
            "1/1 [==============================] - 0s 28ms/step\n",
            "f : f\n",
            "1/1 [==============================] - 0s 23ms/step\n",
            "set : set\n",
            "1/1 [==============================] - 0s 25ms/step\n",
            "blue : blue\n"
          ]
        }
      ]
    },
    {
      "cell_type": "code",
      "source": [
        "\n",
        "plt.plot(history.history['accuracy'], label='Training Accuracy')\n",
        "plt.plot(history.history['val_accuracy'], label='Validation Accuracy')\n",
        "plt.title('Model Accuracy')\n",
        "plt.xlabel('Epoch')\n",
        "plt.ylabel('Accuracy (%)')\n",
        "\n",
        "# Set the y-axis ticks to start from 10% and in 1% intervals\n",
        "plt.gca().yaxis.set_major_formatter(mticker.PercentFormatter(xmax=1.0, decimals=0))\n",
        "plt.ylim(0.1, 1.0)  # Set the y-axis limits from 10% to 100%\n",
        "\n",
        "plt.legend()\n",
        "plt.show()\n"
      ],
      "metadata": {
        "colab": {
          "base_uri": "https://localhost:8080/",
          "height": 472
        },
        "id": "NadIhjUaiK7F",
        "outputId": "6b76a736-183d-42f5-c1c7-9f84f9304a3e"
      },
      "execution_count": 29,
      "outputs": [
        {
          "output_type": "display_data",
          "data": {
            "text/plain": [
              "<Figure size 640x480 with 1 Axes>"
            ],
            "image/png": "[encoded data removed]"
          },
          "metadata": {}
        }
      ]
    },
    {
      "cell_type": "code",
      "source": [],
      "metadata": {
        "id": "3U4UgGcnHuMY"
      },
      "execution_count": null,
      "outputs": []
    }
  ],
  "metadata": {
    "accelerator": "GPU",
    "colab": {
      "provenance": []
    },
    "kernelspec": {
      "display_name": "Python 3",
      "name": "python3"
    },
    "language_info": {
      "name": "python"
    }
  },
  "nbformat": 4,
  "nbformat_minor": 0
}